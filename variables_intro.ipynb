{
  "nbformat": 4,
  "nbformat_minor": 0,
  "metadata": {
    "colab": {
      "name": "variables_intro.ipynb",
      "provenance": [],
      "collapsed_sections": []
    },
    "kernelspec": {
      "name": "python3",
      "display_name": "Python 3"
    },
    "language_info": {
      "name": "python"
    }
  },
  "cells": [
    {
      "cell_type": "markdown",
      "metadata": {
        "id": "YII6_7w9OzLi"
      },
      "source": [
        "**Print Helloworld**"
      ]
    },
    {
      "cell_type": "code",
      "metadata": {
        "colab": {
          "base_uri": "https://localhost:8080/"
        },
        "id": "ZTBuBrb1NBdE",
        "outputId": "fd65ab3a-77b9-41d2-d374-9f49cc79c130"
      },
      "source": [
        "print(\"Hello\")\n",
        "print(\"Hello\")\n",
        "10"
      ],
      "execution_count": 3,
      "outputs": [
        {
          "output_type": "stream",
          "text": [
            "Hello\n",
            "Hello\n"
          ],
          "name": "stdout"
        },
        {
          "output_type": "execute_result",
          "data": {
            "text/plain": [
              "10"
            ]
          },
          "metadata": {
            "tags": []
          },
          "execution_count": 3
        }
      ]
    },
    {
      "cell_type": "markdown",
      "metadata": {
        "id": "Od9MIgwIOsmn"
      },
      "source": [
        "**Variables**"
      ]
    },
    {
      "cell_type": "code",
      "metadata": {
        "colab": {
          "base_uri": "https://localhost:8080/"
        },
        "id": "o9jgXAhaO4-k",
        "outputId": "6e6cc276-895b-4573-ffe3-4c59f350974e"
      },
      "source": [
        "a = 10\n",
        "b = 20\n",
        "\n",
        "a + b\n",
        "sum = a + b\n",
        "abc=10\n",
        "print(sum)\n",
        "abc"
      ],
      "execution_count": 5,
      "outputs": [
        {
          "output_type": "stream",
          "text": [
            "30\n"
          ],
          "name": "stdout"
        },
        {
          "output_type": "execute_result",
          "data": {
            "text/plain": [
              "10"
            ]
          },
          "metadata": {
            "tags": []
          },
          "execution_count": 5
        }
      ]
    },
    {
      "cell_type": "markdown",
      "metadata": {
        "id": "sLJzyrORPSui"
      },
      "source": [
        "- without giving print only we got output 30.\n",
        "- This is output of 2nd cell .\n",
        "- There are 2 ways by which we print\n",
        "- 1)Is we use print command\n",
        "- 2)whatever is lastline the output or result of that.\n",
        "- print command if you want to print a string like text command you need - - to put in single or double quote.-->This prints sum.\n",
        "- But If you want to print storage we can simply say sum. -->this gives - - value inside storage sum."
      ]
    },
    {
      "cell_type": "markdown",
      "metadata": {
        "id": "RLhhY2qCRh1d"
      },
      "source": [
        "- **How to name variables**\n",
        "- Variables can have any character either lower case or upper case or - Digit or underscore.\n",
        "- **The only restriction is you cannot start a variable name with digit.**\n",
        "- The variable can start with upper or lower case or underscore.\n"
      ]
    },
    {
      "cell_type": "markdown",
      "metadata": {
        "id": "fFjbBxqLShxg"
      },
      "source": [
        "- we know how to create variables access them later and we know how we name them as well.\n",
        "- Next we will look how exactly we are storing the data."
      ]
    },
    {
      "cell_type": "markdown",
      "metadata": {
        "id": "a7l3X2LVa9E4"
      },
      "source": [
        ""
      ]
    },
    {
      "cell_type": "markdown",
      "metadata": {
        "id": "BnAMM2ebTCtF"
      },
      "source": [
        "- Now lets continue our discussion on variables.\n",
        "- If we give # infront of code it gets commented.\n",
        "- Its just like if we want to add some notes in front my code.\n",
        "\n",
        "\n",
        "\n"
      ]
    },
    {
      "cell_type": "markdown",
      "metadata": {
        "id": "U3xnJ19aTx9T"
      },
      "source": [
        "**Assigning different type of data to a variable**"
      ]
    },
    {
      "cell_type": "markdown",
      "metadata": {
        "id": "Glk9YmXNT-2q"
      },
      "source": [
        "- In java we need to give upfront what kind of data you want to store in a.\n",
        "If you want to store integer you need to give int a\n",
        "That basically means we are telling java that i need a storage uprfont where i need to store integer.\n",
        "That not case with python.\n",
        "- Python allows it but java doesnt what is the difference\n",
        "\n",
        "- Thats where we need to know how things are stored in python and it is different from java.\n",
        "- In java when we say int a =10 we give fixed amount of space for integer\n",
        "you can put what ever value you want to put within 4 bytes.\n",
        "we give int upfront in java because java is deciding how much space is required upfront.It is giving space ased on what kind of data you want to store.\n",
        "- In case of python things are different when we say a=10 it doesnt mean a is fixed storage where 10 is going to be stored.\n",
        "what happens is it creates some storage which is 10 and then a just stores address of this storage.\n",
        "\n",
        "- Both are diiferent because a=20 in next line if we give python will create a different storage which has 20 in it.\n",
        "Instead of a address it will start storing 20 address.\n",
        "\n",
        "- The difference is in java one storage is dedicated to a and any storage you put inside a comes here.\n",
        "\n",
        "- In python a is storing in address of some storage it can be storage contating 10 or 20.\n",
        "- Because you are doing this even if you give a=\"asf\" pyhton will create new storage with all this written in it.\n",
        "- And a will now contain this new storage instead of previous one.\n",
        "\n"
      ]
    },
    {
      "cell_type": "markdown",
      "metadata": {
        "id": "h5Zu1ftIXRU_"
      },
      "source": [
        "- Lets see again In python \n",
        "when we give a=10 it contains adress of the storage\n",
        "when we give a=20 it contains new storage and a will start storing new address instead of previous one.\n",
        "a is actually address of some storage\n",
        "Next time a=\"abc\" a will store this address instead of previous one.\n"
      ]
    },
    {
      "cell_type": "markdown",
      "metadata": {
        "id": "nkoVx9MhaVMT"
      },
      "source": [
        ""
      ]
    },
    {
      "cell_type": "markdown",
      "metadata": {
        "id": "BHOxuRonX1yp"
      },
      "source": [
        "- where as when we say anything a contains is going to contain within 4 bytes we are restricting ourself to what all we can store in a.\n",
        "In python we can store integer as well strings."
      ]
    },
    {
      "cell_type": "markdown",
      "metadata": {
        "id": "6EQD6HeAYPSS"
      },
      "source": [
        "- There is intresting command or function called type.\n",
        "Using which you can figure out what kind of data is currently stored in it."
      ]
    },
    {
      "cell_type": "code",
      "metadata": {
        "colab": {
          "base_uri": "https://localhost:8080/"
        },
        "id": "ESiSnHBWXM-D",
        "outputId": "3499c093-4190-4313-a4cf-59bb5dc679f4"
      },
      "source": [
        "type(a)"
      ],
      "execution_count": 7,
      "outputs": [
        {
          "output_type": "execute_result",
          "data": {
            "text/plain": [
              "int"
            ]
          },
          "metadata": {
            "tags": []
          },
          "execution_count": 7
        }
      ]
    },
    {
      "cell_type": "code",
      "metadata": {
        "colab": {
          "base_uri": "https://localhost:8080/"
        },
        "id": "SG4jiJ1iYc5y",
        "outputId": "5bd88ce0-6a00-44a3-de15-cf29734c6b6e"
      },
      "source": [
        "a = \"abc\"\n",
        "print(type(a))\n",
        "a = 10\n",
        "print(type(type(a)))"
      ],
      "execution_count": 8,
      "outputs": [
        {
          "output_type": "stream",
          "text": [
            "<class 'str'>\n",
            "<class 'type'>\n"
          ],
          "name": "stdout"
        }
      ]
    },
    {
      "cell_type": "markdown",
      "metadata": {
        "id": "2DlGQ2LBbVoH"
      },
      "source": [
        "## Python Numbers"
      ]
    },
    {
      "cell_type": "markdown",
      "metadata": {
        "id": "BsrID8iAbZtY"
      },
      "source": [
        "we can have 3 types as below integers,floating point numbers and complex numbers."
      ]
    },
    {
      "cell_type": "code",
      "metadata": {
        "colab": {
          "base_uri": "https://localhost:8080/"
        },
        "id": "SMJL5TRqY2ph",
        "outputId": "c8b2a5f3-a6b4-4780-80ab-96eb0709ebbf"
      },
      "source": [
        "a1 = 23\n",
        "a2 = 3.4\n",
        "a3 = 4 + 5j\n",
        "print(type(a1))\n",
        "print(type(a2))\n",
        "print(type(a3))"
      ],
      "execution_count": 10,
      "outputs": [
        {
          "output_type": "stream",
          "text": [
            "<class 'int'>\n",
            "<class 'float'>\n",
            "<class 'complex'>\n"
          ],
          "name": "stdout"
        }
      ]
    },
    {
      "cell_type": "code",
      "metadata": {
        "colab": {
          "base_uri": "https://localhost:8080/"
        },
        "id": "fsNZTSdvbwgK",
        "outputId": "df211299-59bb-48fe-c021-631c3da2c963"
      },
      "source": [
        "a = 10\n",
        "print(id(a))\n",
        "a = a + 1\n",
        "print(id(a))\n",
        "a"
      ],
      "execution_count": 12,
      "outputs": [
        {
          "output_type": "stream",
          "text": [
            "94103465036576\n",
            "94103465036608\n"
          ],
          "name": "stdout"
        },
        {
          "output_type": "execute_result",
          "data": {
            "text/plain": [
              "11"
            ]
          },
          "metadata": {
            "tags": []
          },
          "execution_count": 12
        }
      ]
    },
    {
      "cell_type": "markdown",
      "metadata": {
        "id": "wMO-rmYMcY2X"
      },
      "source": [
        "- what exactly is happening? a =10 python created some storage at 10 and also has some metadata some additional information.\n",
        "And contains address of this place.\n",
        "- Next line we side a = a + 1 so firstly pyhton evaluates a + 1 which is 11.So it has storage which contains 11 some metadata here as well.\n",
        "And now a instead of having previous address will have address of storage 11.\n",
        "So address itself has changed.\n",
        "So when we do this stogare is changed.\n",
        "we have another instreting command called id command.\n",
        "- If we give Id of some variable it will give unique number associated with storage that this number is pointing to.\n",
        "- If we print id(a) we see 2 different numbers.\n",
        "- This basically means a is ponting to some storage but after we did a = a + 1 a is pointing to some other storage.\n",
        "- Id method basically gives you unique number associated with the storage that a variable is storing the address off.\n",
        "\n",
        "\n"
      ]
    },
    {
      "cell_type": "code",
      "metadata": {
        "colab": {
          "base_uri": "https://localhost:8080/"
        },
        "id": "AQSZ4HWmcVpb",
        "outputId": "f167a625-c295-4168-95c5-a4c1966316d6"
      },
      "source": [
        "a=10\n",
        "b=10\n",
        "print(id(a))\n",
        "print(id(b))"
      ],
      "execution_count": 13,
      "outputs": [
        {
          "output_type": "stream",
          "text": [
            "94103465036576\n",
            "94103465036576\n"
          ],
          "name": "stdout"
        }
      ]
    },
    {
      "cell_type": "markdown",
      "metadata": {
        "id": "4xVJjneheq1m"
      },
      "source": [
        "- Both a and b have same id.Meaning both a and b are storing the address of same storage.\n",
        "- There is one storage 10 in it and both a and b are storing the addresses."
      ]
    },
    {
      "cell_type": "code",
      "metadata": {
        "colab": {
          "base_uri": "https://localhost:8080/"
        },
        "id": "cJkJww8CeoOs",
        "outputId": "cef29a99-9ab7-4c71-b862-f69f03b2fd4f"
      },
      "source": [
        "a=1000\n",
        "b=1000\n",
        "print(id(a))\n",
        "print(id(b))\n"
      ],
      "execution_count": 14,
      "outputs": [
        {
          "output_type": "stream",
          "text": [
            "140471801144880\n",
            "140471801146160\n"
          ],
          "name": "stdout"
        }
      ]
    },
    {
      "cell_type": "markdown",
      "metadata": {
        "id": "ByiO1YnNfLiG"
      },
      "source": [
        "Now if we see for 1000 the ids are different.so python is doing optimization but does only for numbers between -5 to 256.\n",
        "- For all numbers within this range if 2 variables are storing the same numbers they will be pointing or address of same storage.\n",
        "- But numbers outside this the optimization is not done."
      ]
    },
    {
      "cell_type": "code",
      "metadata": {
        "colab": {
          "base_uri": "https://localhost:8080/"
        },
        "id": "QoWefV3bfITM",
        "outputId": "847a8409-3e8f-4f5f-cbeb-c9bf98b02709"
      },
      "source": [
        "a =10\n",
        "id1=id(a)\n",
        "b=a+2-2\n",
        "id2=id(b)\n",
        "print(id(a))\n",
        "print(id(b))"
      ],
      "execution_count": 16,
      "outputs": [
        {
          "output_type": "stream",
          "text": [
            "94103465036576\n",
            "94103465036576\n"
          ],
          "name": "stdout"
        }
      ]
    },
    {
      "cell_type": "markdown",
      "metadata": {
        "id": "iObN75WWlLIC"
      },
      "source": [
        "# Arithmatic Operators"
      ]
    },
    {
      "cell_type": "markdown",
      "metadata": {
        "id": "L-y2BLmvlNU6"
      },
      "source": [
        "Arithmatic Operatiors + - = / // ** % \n",
        "Lets talk about these 7 operators\n"
      ]
    },
    {
      "cell_type": "code",
      "metadata": {
        "colab": {
          "base_uri": "https://localhost:8080/"
        },
        "id": "ME42PC5NgIyA",
        "outputId": "018c10ca-c692-403c-d344-ebdaee36de09"
      },
      "source": [
        "a = 10\n",
        "b = 4\n",
        "print(a-b)\n",
        "print(a+b)"
      ],
      "execution_count": 20,
      "outputs": [
        {
          "output_type": "stream",
          "text": [
            "6\n",
            "14\n"
          ],
          "name": "stdout"
        }
      ]
    },
    {
      "cell_type": "code",
      "metadata": {
        "colab": {
          "base_uri": "https://localhost:8080/"
        },
        "id": "qbsZ8ALxlJBO",
        "outputId": "52ea73f4-48a3-46a1-b662-97256bfee72a"
      },
      "source": [
        "a * b "
      ],
      "execution_count": 21,
      "outputs": [
        {
          "output_type": "execute_result",
          "data": {
            "text/plain": [
              "40"
            ]
          },
          "metadata": {
            "tags": []
          },
          "execution_count": 21
        }
      ]
    },
    {
      "cell_type": "code",
      "metadata": {
        "colab": {
          "base_uri": "https://localhost:8080/"
        },
        "id": "zI0payAilkt9",
        "outputId": "555d3730-5367-4c50-a48a-8d0b4d6f59a7"
      },
      "source": [
        "a/b # Floating point division"
      ],
      "execution_count": 22,
      "outputs": [
        {
          "output_type": "execute_result",
          "data": {
            "text/plain": [
              "2.5"
            ]
          },
          "metadata": {
            "tags": []
          },
          "execution_count": 22
        }
      ]
    },
    {
      "cell_type": "code",
      "metadata": {
        "colab": {
          "base_uri": "https://localhost:8080/"
        },
        "id": "1MOFwrLpl_wJ",
        "outputId": "562ab472-68f2-4cc5-acc2-bae20d974398"
      },
      "source": [
        "a//b # Integer division"
      ],
      "execution_count": 23,
      "outputs": [
        {
          "output_type": "execute_result",
          "data": {
            "text/plain": [
              "2"
            ]
          },
          "metadata": {
            "tags": []
          },
          "execution_count": 23
        }
      ]
    },
    {
      "cell_type": "code",
      "metadata": {
        "colab": {
          "base_uri": "https://localhost:8080/"
        },
        "id": "NDm61pBJmmqZ",
        "outputId": "27e7cdf9-5df2-4e31-80ba-7a6435e5ed2d"
      },
      "source": [
        "a % b # Remainder"
      ],
      "execution_count": 26,
      "outputs": [
        {
          "output_type": "execute_result",
          "data": {
            "text/plain": [
              "2"
            ]
          },
          "metadata": {
            "tags": []
          },
          "execution_count": 26
        }
      ]
    },
    {
      "cell_type": "code",
      "metadata": {
        "colab": {
          "base_uri": "https://localhost:8080/"
        },
        "id": "Myfe5Wt4menh",
        "outputId": "22d86e12-be79-4636-ed67-5e37f953df04"
      },
      "source": [
        "a**b # Exponentiation"
      ],
      "execution_count": 25,
      "outputs": [
        {
          "output_type": "execute_result",
          "data": {
            "text/plain": [
              "10000"
            ]
          },
          "metadata": {
            "tags": []
          },
          "execution_count": 25
        }
      ]
    },
    {
      "cell_type": "markdown",
      "metadata": {
        "id": "ffb0WzYLmJ-4"
      },
      "source": [
        "- a/b gives decimal \n",
        "- a//b gives only integer part\n"
      ]
    },
    {
      "cell_type": "markdown",
      "metadata": {
        "id": "b4B-EX6emvjn"
      },
      "source": [
        "we need to take care what happens 1st and what happens later.\n"
      ]
    },
    {
      "cell_type": "code",
      "metadata": {
        "colab": {
          "base_uri": "https://localhost:8080/"
        },
        "id": "I5YMPUmRmuw3",
        "outputId": "78e34821-b353-4555-c3db-e30ffdc84451"
      },
      "source": [
        "2 + 3 * 4 # 14 or 20"
      ],
      "execution_count": 27,
      "outputs": [
        {
          "output_type": "execute_result",
          "data": {
            "text/plain": [
              "14"
            ]
          },
          "metadata": {
            "tags": []
          },
          "execution_count": 27
        }
      ]
    },
    {
      "cell_type": "code",
      "metadata": {
        "colab": {
          "base_uri": "https://localhost:8080/"
        },
        "id": "4IfiiBsnnE6p",
        "outputId": "487a3578-daa1-4c66-ced1-231a2c15bf4d"
      },
      "source": [
        "2 * 3 / 4 # Doesnt matter what operation is done first"
      ],
      "execution_count": 29,
      "outputs": [
        {
          "output_type": "execute_result",
          "data": {
            "text/plain": [
              "1.5"
            ]
          },
          "metadata": {
            "tags": []
          },
          "execution_count": 29
        }
      ]
    },
    {
      "cell_type": "markdown",
      "metadata": {
        "id": "Ovz-wS2TnqcA"
      },
      "source": [
        "Put brackets if you want to do that operation 1st\n",
        "For SI also give brackets."
      ]
    },
    {
      "cell_type": "code",
      "metadata": {
        "colab": {
          "base_uri": "https://localhost:8080/"
        },
        "id": "TBVoQ95HnPVV",
        "outputId": "7c926f19-b73c-4255-e496-cbd18a0a14fd"
      },
      "source": [
        "2 * 3 // 4 # Multiplication 1st and then division"
      ],
      "execution_count": 30,
      "outputs": [
        {
          "output_type": "execute_result",
          "data": {
            "text/plain": [
              "1"
            ]
          },
          "metadata": {
            "tags": []
          },
          "execution_count": 30
        }
      ]
    },
    {
      "cell_type": "code",
      "metadata": {
        "colab": {
          "base_uri": "https://localhost:8080/"
        },
        "id": "teYnR7DinbTR",
        "outputId": "69bb9b97-be9f-43d3-d0c5-997eabd64076"
      },
      "source": [
        "# Simple Interest to lower integer\n",
        "p = 100\n",
        "r = 12\n",
        "t = 2\n",
        "SI = p*t*r//100\n",
        "SI"
      ],
      "execution_count": 34,
      "outputs": [
        {
          "output_type": "execute_result",
          "data": {
            "text/plain": [
              "24"
            ]
          },
          "metadata": {
            "tags": []
          },
          "execution_count": 34
        }
      ]
    },
    {
      "cell_type": "code",
      "metadata": {
        "colab": {
          "base_uri": "https://localhost:8080/"
        },
        "id": "g6f8Bze8n4z9",
        "outputId": "19d691f4-8ed6-4efa-e175-a9c46b0052c8"
      },
      "source": [
        "# Simple Interest\n",
        "p = 100\n",
        "r = 12\n",
        "t = 2\n",
        "SI =t//100*r*p\n",
        "SI"
      ],
      "execution_count": 35,
      "outputs": [
        {
          "output_type": "execute_result",
          "data": {
            "text/plain": [
              "0"
            ]
          },
          "metadata": {
            "tags": []
          },
          "execution_count": 35
        }
      ]
    },
    {
      "cell_type": "code",
      "metadata": {
        "colab": {
          "base_uri": "https://localhost:8080/"
        },
        "id": "kpRDnmhgoZQB",
        "outputId": "a43f50df-ef09-4a32-f021-c5e45ef547c4"
      },
      "source": [
        "# fah to celcius conversion\n",
        "f = 100\n",
        "c = (f-32) * 5/9\n",
        "print(c)\n",
        "ci =(f-32) * 5//9  # Integer celsius value\n",
        "print(ci)"
      ],
      "execution_count": 41,
      "outputs": [
        {
          "output_type": "stream",
          "text": [
            "37.77777777777778\n",
            "37\n"
          ],
          "name": "stdout"
        }
      ]
    },
    {
      "cell_type": "markdown",
      "metadata": {
        "id": "IQOdAOxRqSF6"
      },
      "source": [
        "# Taking Inputs\n",
        "- We want our code to ask user the 3 numbers for SI when we give 3 numbers then we would want to do calculation and figure out the answer.\n",
        "- Lets write a simple code to add 2 numbers\n"
      ]
    },
    {
      "cell_type": "markdown",
      "metadata": {
        "id": "pcMBIbb5qiVv"
      },
      "source": [
        "## input"
      ]
    },
    {
      "cell_type": "markdown",
      "metadata": {
        "id": "lYAPFdJHqnba"
      },
      "source": [
        "- If we write input the code is running and waiting for the user.\n",
        "- And if we give 23 it gives us 23 as output.\n",
        "- So we want to store this number thats what we want to do right.\n"
      ]
    },
    {
      "cell_type": "code",
      "metadata": {
        "colab": {
          "base_uri": "https://localhost:8080/",
          "height": 53
        },
        "id": "vDi95CyBozun",
        "outputId": "c7a19767-9803-4230-ba2f-61bd2b46b58f"
      },
      "source": [
        "input()"
      ],
      "execution_count": 43,
      "outputs": [
        {
          "output_type": "stream",
          "text": [
            "23\n"
          ],
          "name": "stdout"
        },
        {
          "output_type": "execute_result",
          "data": {
            "application/vnd.google.colaboratory.intrinsic+json": {
              "type": "string"
            },
            "text/plain": [
              "'23'"
            ]
          },
          "metadata": {
            "tags": []
          },
          "execution_count": 43
        }
      ]
    },
    {
      "cell_type": "code",
      "metadata": {
        "colab": {
          "base_uri": "https://localhost:8080/",
          "height": 53
        },
        "id": "cNPO7J8qqhMn",
        "outputId": "58b04c6b-bc69-45aa-fbc5-33691841cd67"
      },
      "source": [
        "a = input()\n",
        "a"
      ],
      "execution_count": 44,
      "outputs": [
        {
          "output_type": "stream",
          "text": [
            "23\n"
          ],
          "name": "stdout"
        },
        {
          "output_type": "execute_result",
          "data": {
            "application/vnd.google.colaboratory.intrinsic+json": {
              "type": "string"
            },
            "text/plain": [
              "'23'"
            ]
          },
          "metadata": {
            "tags": []
          },
          "execution_count": 44
        }
      ]
    },
    {
      "cell_type": "code",
      "metadata": {
        "colab": {
          "base_uri": "https://localhost:8080/"
        },
        "id": "RLHWwnCgrAFx",
        "outputId": "1525fca9-fe07-4d94-8c42-49a67f75f456"
      },
      "source": [
        "a = input()\n",
        "b = input()\n",
        "print(type(a))\n",
        "s = a + b\n",
        "print(s)"
      ],
      "execution_count": 47,
      "outputs": [
        {
          "output_type": "stream",
          "text": [
            "23\n",
            "34\n",
            "<class 'str'>\n",
            "2334\n"
          ],
          "name": "stdout"
        }
      ]
    },
    {
      "cell_type": "markdown",
      "metadata": {
        "id": "E2MGUufPrcCd"
      },
      "source": [
        "- we are hoping for 57 answer but we got 2334 as answer.\n",
        "what this means is there is somthing wrong in the way it has treated a and b.\n",
        "- a is string 23 and b is string 34 when it adds 2 strings we get 2334.\n",
        "- It is adding 2 strings it is taking input as integer.\n",
        "- The input command has given a string irrespective of user has given.\n",
        "- Lets try to convert string 23 into number 23.\n",
        "- To convert string to integer we use basically command int('34') it will convert into integer.\n",
        "- we can use int to convert string or floating numbers to integers.\n",
        "- If it is not a valid integer you will get a error."
      ]
    },
    {
      "cell_type": "code",
      "metadata": {
        "colab": {
          "base_uri": "https://localhost:8080/"
        },
        "id": "Q1bm8FzdrLnj",
        "outputId": "79799be7-e771-4219-d227-6e600129f74c"
      },
      "source": [
        "#a = input()\n",
        "#b = input()\n",
        "b = '34'\n",
        "c = int(b)\n",
        "print(type(c))\n",
        "print(c)"
      ],
      "execution_count": 50,
      "outputs": [
        {
          "output_type": "stream",
          "text": [
            "<class 'int'>\n",
            "34\n"
          ],
          "name": "stdout"
        }
      ]
    },
    {
      "cell_type": "code",
      "metadata": {
        "colab": {
          "base_uri": "https://localhost:8080/"
        },
        "id": "vqHtUEciss2X",
        "outputId": "7764d8e1-4a28-41a2-cfd3-a1ee4ae26821"
      },
      "source": [
        "a = int(input())\n",
        "print(type(a))\n",
        "b = int(input(a))\n",
        "print(type(b))\n",
        "s = a + b\n",
        "print(s)"
      ],
      "execution_count": 51,
      "outputs": [
        {
          "output_type": "stream",
          "text": [
            "23\n",
            "<class 'int'>\n",
            "2334\n",
            "<class 'int'>\n",
            "57\n"
          ],
          "name": "stdout"
        }
      ]
    },
    {
      "cell_type": "markdown",
      "metadata": {
        "id": "zP-CyWcQt20x"
      },
      "source": [
        "- It will only for integers in case you want to take floating point as input you can use float instead of int.\n"
      ]
    },
    {
      "cell_type": "code",
      "metadata": {
        "colab": {
          "base_uri": "https://localhost:8080/"
        },
        "id": "3jZlzjG3ttg6",
        "outputId": "b572457a-c052-49dc-89b9-6a6e2972bac8"
      },
      "source": [
        "a = float(input())\n",
        "print(type(a))\n",
        "b = float(input(a))\n",
        "print(type(b))\n",
        "s = a + b\n",
        "print(s)"
      ],
      "execution_count": 52,
      "outputs": [
        {
          "output_type": "stream",
          "text": [
            "3.5\n",
            "<class 'float'>\n",
            "3.53.6\n",
            "<class 'float'>\n",
            "7.1\n"
          ],
          "name": "stdout"
        }
      ]
    },
    {
      "cell_type": "markdown",
      "metadata": {
        "id": "Wwi1uB76udTg"
      },
      "source": [
        "- To take input we just need to use input command the input command will result in string to convert to integer we need to use int command  and to convert into float we need to use the float command."
      ]
    },
    {
      "cell_type": "code",
      "metadata": {
        "colab": {
          "base_uri": "https://localhost:8080/",
          "height": 235
        },
        "id": "F5VNGjBzu5lS",
        "outputId": "a9de0ace-362e-4d47-d6f5-d35f2bf96fe3"
      },
      "source": [
        "a = int(input())\n",
        "b = int(input())\n",
        "c = a + b\n",
        "print(c)"
      ],
      "execution_count": 53,
      "outputs": [
        {
          "output_type": "stream",
          "text": [
            "abc\n"
          ],
          "name": "stdout"
        },
        {
          "output_type": "error",
          "ename": "ValueError",
          "evalue": "ignored",
          "traceback": [
            "\u001b[0;31m---------------------------------------------------------------------------\u001b[0m",
            "\u001b[0;31mValueError\u001b[0m                                Traceback (most recent call last)",
            "\u001b[0;32m<ipython-input-53-f02ef58499cd>\u001b[0m in \u001b[0;36m<module>\u001b[0;34m()\u001b[0m\n\u001b[0;32m----> 1\u001b[0;31m \u001b[0ma\u001b[0m \u001b[0;34m=\u001b[0m \u001b[0mint\u001b[0m\u001b[0;34m(\u001b[0m\u001b[0minput\u001b[0m\u001b[0;34m(\u001b[0m\u001b[0;34m)\u001b[0m\u001b[0;34m)\u001b[0m\u001b[0;34m\u001b[0m\u001b[0;34m\u001b[0m\u001b[0m\n\u001b[0m\u001b[1;32m      2\u001b[0m \u001b[0mb\u001b[0m \u001b[0;34m=\u001b[0m \u001b[0mint\u001b[0m\u001b[0;34m(\u001b[0m\u001b[0minput\u001b[0m\u001b[0;34m(\u001b[0m\u001b[0;34m)\u001b[0m\u001b[0;34m)\u001b[0m\u001b[0;34m\u001b[0m\u001b[0;34m\u001b[0m\u001b[0m\n\u001b[1;32m      3\u001b[0m \u001b[0mc\u001b[0m \u001b[0;34m=\u001b[0m \u001b[0ma\u001b[0m \u001b[0;34m+\u001b[0m \u001b[0mb\u001b[0m\u001b[0;34m\u001b[0m\u001b[0;34m\u001b[0m\u001b[0m\n\u001b[1;32m      4\u001b[0m \u001b[0mprint\u001b[0m\u001b[0;34m(\u001b[0m\u001b[0mc\u001b[0m\u001b[0;34m)\u001b[0m\u001b[0;34m\u001b[0m\u001b[0;34m\u001b[0m\u001b[0m\n",
            "\u001b[0;31mValueError\u001b[0m: invalid literal for int() with base 10: 'abc'"
          ]
        }
      ]
    },
    {
      "cell_type": "code",
      "metadata": {
        "id": "tmkE9gDqvYjq"
      },
      "source": [
        ""
      ],
      "execution_count": null,
      "outputs": []
    }
  ]
}